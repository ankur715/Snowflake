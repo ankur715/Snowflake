{
 "cells": [
  {
   "cell_type": "code",
   "execution_count": 1,
   "id": "76ec7055",
   "metadata": {},
   "outputs": [],
   "source": [
    "import pandas as pd"
   ]
  },
  {
   "cell_type": "markdown",
   "id": "c1355ba8",
   "metadata": {},
   "source": [
    "### Addresses\n",
    "https://data.cityofnewyork.us/City-Government/NYC-Address-Points/g6pj-hd8k"
   ]
  },
  {
   "cell_type": "code",
   "execution_count": 2,
   "id": "7d013592",
   "metadata": {},
   "outputs": [],
   "source": [
    "addr_URL = \"https://data.cityofnewyork.us/resource/emzr-v3pi.json\""
   ]
  },
  {
   "cell_type": "code",
   "execution_count": 3,
   "id": "42303c8c",
   "metadata": {},
   "outputs": [
    {
     "data": {
      "text/plain": [
       "(1000, 19)"
      ]
     },
     "execution_count": 3,
     "metadata": {},
     "output_type": "execute_result"
    }
   ],
   "source": [
    "addr = pd.read_json(addr_URL)\n",
    "addr.shape"
   ]
  },
  {
   "cell_type": "code",
   "execution_count": 4,
   "id": "2fee9c26",
   "metadata": {},
   "outputs": [
    {
     "data": {
      "text/html": [
       "<div>\n",
       "<style scoped>\n",
       "    .dataframe tbody tr th:only-of-type {\n",
       "        vertical-align: middle;\n",
       "    }\n",
       "\n",
       "    .dataframe tbody tr th {\n",
       "        vertical-align: top;\n",
       "    }\n",
       "\n",
       "    .dataframe thead th {\n",
       "        text-align: right;\n",
       "    }\n",
       "</style>\n",
       "<table border=\"1\" class=\"dataframe\">\n",
       "  <thead>\n",
       "    <tr style=\"text-align: right;\">\n",
       "      <th></th>\n",
       "      <th>the_geom</th>\n",
       "      <th>address_id</th>\n",
       "      <th>bin</th>\n",
       "      <th>h_no</th>\n",
       "      <th>hyphen_typ</th>\n",
       "      <th>side_of_st</th>\n",
       "      <th>borocode</th>\n",
       "      <th>zipcode</th>\n",
       "      <th>created</th>\n",
       "      <th>modified</th>\n",
       "      <th>st_name</th>\n",
       "      <th>physicalid</th>\n",
       "      <th>post_type</th>\n",
       "      <th>full_stree</th>\n",
       "      <th>pre_direct</th>\n",
       "      <th>hno_suffix</th>\n",
       "      <th>special_co</th>\n",
       "      <th>hn_rng</th>\n",
       "      <th>post_direc</th>\n",
       "    </tr>\n",
       "  </thead>\n",
       "  <tbody>\n",
       "    <tr>\n",
       "      <th>0</th>\n",
       "      <td>{'type': 'Point', 'coordinates': [-73.94890840...</td>\n",
       "      <td>3066687</td>\n",
       "      <td>3053232</td>\n",
       "      <td>54</td>\n",
       "      <td>N</td>\n",
       "      <td>2</td>\n",
       "      <td>3</td>\n",
       "      <td>11216</td>\n",
       "      <td>2009-02-13T00:00:00.000</td>\n",
       "      <td>2013-01-18</td>\n",
       "      <td>MACON</td>\n",
       "      <td>66261</td>\n",
       "      <td>ST</td>\n",
       "      <td>MACON ST</td>\n",
       "      <td>NaN</td>\n",
       "      <td>NaN</td>\n",
       "      <td>NaN</td>\n",
       "      <td>NaN</td>\n",
       "      <td>NaN</td>\n",
       "    </tr>\n",
       "    <tr>\n",
       "      <th>1</th>\n",
       "      <td>{'type': 'Point', 'coordinates': [-73.94867469...</td>\n",
       "      <td>3064205</td>\n",
       "      <td>3051113</td>\n",
       "      <td>438</td>\n",
       "      <td>N</td>\n",
       "      <td>2</td>\n",
       "      <td>3</td>\n",
       "      <td>11216</td>\n",
       "      <td>2009-02-13T00:00:00.000</td>\n",
       "      <td>NaT</td>\n",
       "      <td>GATES</td>\n",
       "      <td>68956</td>\n",
       "      <td>AVE</td>\n",
       "      <td>GATES AVE</td>\n",
       "      <td>NaN</td>\n",
       "      <td>NaN</td>\n",
       "      <td>NaN</td>\n",
       "      <td>NaN</td>\n",
       "      <td>NaN</td>\n",
       "    </tr>\n",
       "  </tbody>\n",
       "</table>\n",
       "</div>"
      ],
      "text/plain": [
       "                                            the_geom  address_id      bin  \\\n",
       "0  {'type': 'Point', 'coordinates': [-73.94890840...     3066687  3053232   \n",
       "1  {'type': 'Point', 'coordinates': [-73.94867469...     3064205  3051113   \n",
       "\n",
       "  h_no hyphen_typ  side_of_st  borocode  zipcode                  created  \\\n",
       "0   54          N           2         3    11216  2009-02-13T00:00:00.000   \n",
       "1  438          N           2         3    11216  2009-02-13T00:00:00.000   \n",
       "\n",
       "    modified st_name  physicalid post_type full_stree pre_direct hno_suffix  \\\n",
       "0 2013-01-18   MACON       66261        ST   MACON ST        NaN        NaN   \n",
       "1        NaT   GATES       68956       AVE  GATES AVE        NaN        NaN   \n",
       "\n",
       "  special_co  hn_rng post_direc  \n",
       "0        NaN     NaN        NaN  \n",
       "1        NaN     NaN        NaN  "
      ]
     },
     "execution_count": 4,
     "metadata": {},
     "output_type": "execute_result"
    }
   ],
   "source": [
    "addr.head(2)"
   ]
  },
  {
   "cell_type": "code",
   "execution_count": 5,
   "id": "98250a76",
   "metadata": {
    "scrolled": true
   },
   "outputs": [
    {
     "data": {
      "text/plain": [
       "'3'"
      ]
     },
     "execution_count": 5,
     "metadata": {},
     "output_type": "execute_result"
    }
   ],
   "source": [
    "addr.borocode[0].astype(\"str\")"
   ]
  },
  {
   "cell_type": "code",
   "execution_count": 6,
   "id": "8f0601f0",
   "metadata": {
    "scrolled": true
   },
   "outputs": [
    {
     "data": {
      "text/html": [
       "<div>\n",
       "<style scoped>\n",
       "    .dataframe tbody tr th:only-of-type {\n",
       "        vertical-align: middle;\n",
       "    }\n",
       "\n",
       "    .dataframe tbody tr th {\n",
       "        vertical-align: top;\n",
       "    }\n",
       "\n",
       "    .dataframe thead th {\n",
       "        text-align: right;\n",
       "    }\n",
       "</style>\n",
       "<table border=\"1\" class=\"dataframe\">\n",
       "  <thead>\n",
       "    <tr style=\"text-align: right;\">\n",
       "      <th></th>\n",
       "      <th>the_geom</th>\n",
       "      <th>address_id</th>\n",
       "      <th>bin</th>\n",
       "      <th>h_no</th>\n",
       "      <th>hyphen_typ</th>\n",
       "      <th>side_of_st</th>\n",
       "      <th>borocode</th>\n",
       "      <th>zipcode</th>\n",
       "      <th>created</th>\n",
       "      <th>modified</th>\n",
       "      <th>st_name</th>\n",
       "      <th>physicalid</th>\n",
       "      <th>post_type</th>\n",
       "      <th>full_stree</th>\n",
       "      <th>pre_direct</th>\n",
       "      <th>hno_suffix</th>\n",
       "      <th>special_co</th>\n",
       "      <th>hn_rng</th>\n",
       "      <th>post_direc</th>\n",
       "      <th>boroname</th>\n",
       "    </tr>\n",
       "  </thead>\n",
       "  <tbody>\n",
       "    <tr>\n",
       "      <th>998</th>\n",
       "      <td>{'type': 'Point', 'coordinates': [-73.93776389...</td>\n",
       "      <td>3054067</td>\n",
       "      <td>3043360</td>\n",
       "      <td>871</td>\n",
       "      <td>N</td>\n",
       "      <td>1</td>\n",
       "      <td>3</td>\n",
       "      <td>11221</td>\n",
       "      <td>2009-02-13T00:00:00.000</td>\n",
       "      <td>NaT</td>\n",
       "      <td>LAFAYETTE</td>\n",
       "      <td>47214</td>\n",
       "      <td>AVE</td>\n",
       "      <td>LAFAYETTE AVE</td>\n",
       "      <td>NaN</td>\n",
       "      <td>NaN</td>\n",
       "      <td>NaN</td>\n",
       "      <td>NaN</td>\n",
       "      <td>NaN</td>\n",
       "      <td>Brooklyn</td>\n",
       "    </tr>\n",
       "    <tr>\n",
       "      <th>999</th>\n",
       "      <td>{'type': 'Point', 'coordinates': [-73.94385609...</td>\n",
       "      <td>3089030</td>\n",
       "      <td>3068763</td>\n",
       "      <td>753</td>\n",
       "      <td>N</td>\n",
       "      <td>1</td>\n",
       "      <td>3</td>\n",
       "      <td>11211</td>\n",
       "      <td>2009-02-13T00:00:00.000</td>\n",
       "      <td>NaT</td>\n",
       "      <td>METROPOLITAN</td>\n",
       "      <td>46664</td>\n",
       "      <td>AVE</td>\n",
       "      <td>METROPOLITAN AVE</td>\n",
       "      <td>NaN</td>\n",
       "      <td>NaN</td>\n",
       "      <td>NaN</td>\n",
       "      <td>NaN</td>\n",
       "      <td>NaN</td>\n",
       "      <td>Brooklyn</td>\n",
       "    </tr>\n",
       "  </tbody>\n",
       "</table>\n",
       "</div>"
      ],
      "text/plain": [
       "                                              the_geom  address_id      bin  \\\n",
       "998  {'type': 'Point', 'coordinates': [-73.93776389...     3054067  3043360   \n",
       "999  {'type': 'Point', 'coordinates': [-73.94385609...     3089030  3068763   \n",
       "\n",
       "    h_no hyphen_typ  side_of_st  borocode  zipcode                  created  \\\n",
       "998  871          N           1         3    11221  2009-02-13T00:00:00.000   \n",
       "999  753          N           1         3    11211  2009-02-13T00:00:00.000   \n",
       "\n",
       "    modified       st_name  physicalid post_type        full_stree pre_direct  \\\n",
       "998      NaT     LAFAYETTE       47214       AVE     LAFAYETTE AVE        NaN   \n",
       "999      NaT  METROPOLITAN       46664       AVE  METROPOLITAN AVE        NaN   \n",
       "\n",
       "    hno_suffix special_co  hn_rng post_direc  boroname  \n",
       "998        NaN        NaN     NaN        NaN  Brooklyn  \n",
       "999        NaN        NaN     NaN        NaN  Brooklyn  "
      ]
     },
     "execution_count": 6,
     "metadata": {},
     "output_type": "execute_result"
    }
   ],
   "source": [
    "def boroname(x):\n",
    "    if x == 1:\n",
    "        return \"Manhattan\"\n",
    "    elif x == 2:\n",
    "        return \"Bronx\"\n",
    "    elif x == 3:\n",
    "        return \"Brooklyn\"\n",
    "    elif x == 4:\n",
    "        return \"Queens\"\n",
    "    elif x == 5:\n",
    "        return \"Staten Island\"\n",
    "addr[\"boroname\"] = addr[\"borocode\"].map(boroname)\n",
    "addr.tail(2)"
   ]
  },
  {
   "cell_type": "code",
   "execution_count": 7,
   "id": "dc5da665",
   "metadata": {},
   "outputs": [],
   "source": [
    "def to_str(x):\n",
    "    return x.astype(\"str\")\n",
    "addr = addr.apply(to_str)"
   ]
  },
  {
   "cell_type": "markdown",
   "id": "ee87e1b7",
   "metadata": {},
   "source": [
    "### Violations\n",
    "https://data.cityofnewyork.us/Housing-Development/Violations-Manhattan/3m58-pv6i/data"
   ]
  },
  {
   "cell_type": "code",
   "execution_count": 8,
   "id": "7aa6820e",
   "metadata": {},
   "outputs": [],
   "source": [
    "vio_URL = \"https://data.cityofnewyork.us/resource/3m58-pv6i.json\""
   ]
  },
  {
   "cell_type": "code",
   "execution_count": 9,
   "id": "d05a2863",
   "metadata": {
    "scrolled": true
   },
   "outputs": [
    {
     "data": {
      "text/html": [
       "<div>\n",
       "<style scoped>\n",
       "    .dataframe tbody tr th:only-of-type {\n",
       "        vertical-align: middle;\n",
       "    }\n",
       "\n",
       "    .dataframe tbody tr th {\n",
       "        vertical-align: top;\n",
       "    }\n",
       "\n",
       "    .dataframe thead th {\n",
       "        text-align: right;\n",
       "    }\n",
       "</style>\n",
       "<table border=\"1\" class=\"dataframe\">\n",
       "  <thead>\n",
       "    <tr style=\"text-align: right;\">\n",
       "      <th></th>\n",
       "      <th>isn_dob_bis_viol</th>\n",
       "      <th>boro</th>\n",
       "      <th>bin</th>\n",
       "      <th>block</th>\n",
       "      <th>lot</th>\n",
       "      <th>issue_date</th>\n",
       "      <th>violation_type_code</th>\n",
       "      <th>violation_number</th>\n",
       "      <th>house_number</th>\n",
       "      <th>street</th>\n",
       "      <th>device_number</th>\n",
       "      <th>description</th>\n",
       "      <th>number</th>\n",
       "      <th>violation_category</th>\n",
       "      <th>violation_type</th>\n",
       "      <th>disposition_date</th>\n",
       "      <th>disposition_comments</th>\n",
       "    </tr>\n",
       "  </thead>\n",
       "  <tbody>\n",
       "    <tr>\n",
       "      <th>0</th>\n",
       "      <td>22419</td>\n",
       "      <td>1</td>\n",
       "      <td>0</td>\n",
       "      <td>847</td>\n",
       "      <td>38</td>\n",
       "      <td>19881122</td>\n",
       "      <td>E</td>\n",
       "      <td>1179A-04</td>\n",
       "      <td>222</td>\n",
       "      <td>4TH AVE</td>\n",
       "      <td>1P4050</td>\n",
       "      <td>(51) REMOVE ALL DEADBOLT LOCKS</td>\n",
       "      <td>V112288E1179A-04</td>\n",
       "      <td>V-DOB VIOLATION - ACTIVE</td>\n",
       "      <td>E-ELEVATOR                                    ...</td>\n",
       "      <td>NaN</td>\n",
       "      <td>NaN</td>\n",
       "    </tr>\n",
       "    <tr>\n",
       "      <th>1</th>\n",
       "      <td>32085</td>\n",
       "      <td>1</td>\n",
       "      <td>0</td>\n",
       "      <td>847</td>\n",
       "      <td>38</td>\n",
       "      <td>19881122</td>\n",
       "      <td>E</td>\n",
       "      <td>1179A-05</td>\n",
       "      <td>222</td>\n",
       "      <td>4TH AVE</td>\n",
       "      <td>1P23210</td>\n",
       "      <td>NaN</td>\n",
       "      <td>V112288E1179A-05</td>\n",
       "      <td>V-DOB VIOLATION - ACTIVE</td>\n",
       "      <td>E-ELEVATOR                                    ...</td>\n",
       "      <td>NaN</td>\n",
       "      <td>NaN</td>\n",
       "    </tr>\n",
       "    <tr>\n",
       "      <th>2</th>\n",
       "      <td>22405</td>\n",
       "      <td>1</td>\n",
       "      <td>0</td>\n",
       "      <td>847</td>\n",
       "      <td>38</td>\n",
       "      <td>19881122</td>\n",
       "      <td>E</td>\n",
       "      <td>1179A/03</td>\n",
       "      <td>222</td>\n",
       "      <td>4TH AVE</td>\n",
       "      <td>1P4049</td>\n",
       "      <td>(51)  REMOVE ALL DEADBOLT LOCKS ON HOISTWAY DO...</td>\n",
       "      <td>V112288E1179A/03</td>\n",
       "      <td>V-DOB VIOLATION - ACTIVE</td>\n",
       "      <td>E-ELEVATOR                                    ...</td>\n",
       "      <td>NaN</td>\n",
       "      <td>NaN</td>\n",
       "    </tr>\n",
       "    <tr>\n",
       "      <th>3</th>\n",
       "      <td>22408</td>\n",
       "      <td>1</td>\n",
       "      <td>0</td>\n",
       "      <td>847</td>\n",
       "      <td>38</td>\n",
       "      <td>19881122</td>\n",
       "      <td>E</td>\n",
       "      <td>1179A-06</td>\n",
       "      <td>222</td>\n",
       "      <td>4TH AVE</td>\n",
       "      <td>1F3204</td>\n",
       "      <td>(51)  RESTORE TO SERVICE</td>\n",
       "      <td>V*112288E1179A-06</td>\n",
       "      <td>V*-DOB VIOLATION - Resolved</td>\n",
       "      <td>E-ELEVATOR                                    ...</td>\n",
       "      <td>19890208.0</td>\n",
       "      <td>266-81</td>\n",
       "    </tr>\n",
       "  </tbody>\n",
       "</table>\n",
       "</div>"
      ],
      "text/plain": [
       "   isn_dob_bis_viol  boro  bin  block  lot  issue_date violation_type_code  \\\n",
       "0             22419     1    0    847   38    19881122                   E   \n",
       "1             32085     1    0    847   38    19881122                   E   \n",
       "2             22405     1    0    847   38    19881122                   E   \n",
       "3             22408     1    0    847   38    19881122                   E   \n",
       "\n",
       "  violation_number  house_number   street device_number  \\\n",
       "0         1179A-04           222  4TH AVE        1P4050   \n",
       "1         1179A-05           222  4TH AVE       1P23210   \n",
       "2         1179A/03           222  4TH AVE        1P4049   \n",
       "3         1179A-06           222  4TH AVE        1F3204   \n",
       "\n",
       "                                         description             number  \\\n",
       "0                     (51) REMOVE ALL DEADBOLT LOCKS   V112288E1179A-04   \n",
       "1                                                NaN   V112288E1179A-05   \n",
       "2  (51)  REMOVE ALL DEADBOLT LOCKS ON HOISTWAY DO...   V112288E1179A/03   \n",
       "3                           (51)  RESTORE TO SERVICE  V*112288E1179A-06   \n",
       "\n",
       "            violation_category  \\\n",
       "0     V-DOB VIOLATION - ACTIVE   \n",
       "1     V-DOB VIOLATION - ACTIVE   \n",
       "2     V-DOB VIOLATION - ACTIVE   \n",
       "3  V*-DOB VIOLATION - Resolved   \n",
       "\n",
       "                                      violation_type  disposition_date  \\\n",
       "0  E-ELEVATOR                                    ...               NaN   \n",
       "1  E-ELEVATOR                                    ...               NaN   \n",
       "2  E-ELEVATOR                                    ...               NaN   \n",
       "3  E-ELEVATOR                                    ...        19890208.0   \n",
       "\n",
       "  disposition_comments  \n",
       "0                  NaN  \n",
       "1                  NaN  \n",
       "2                  NaN  \n",
       "3               266-81  "
      ]
     },
     "execution_count": 9,
     "metadata": {},
     "output_type": "execute_result"
    }
   ],
   "source": [
    "# test\n",
    "url = vio_URL+\"?bin=0000000&boro=1&house_number=222&street=4TH%20AVE\"\n",
    "pd.read_json(url)"
   ]
  },
  {
   "cell_type": "code",
   "execution_count": null,
   "id": "3b797d8d",
   "metadata": {},
   "outputs": [],
   "source": [
    "# vio = pd.DataFrame()\n",
    "# for i in range(len(addr)):\n",
    "#     url = vio_URL+\"?bin=\"+addr[\"bin\"][i]+\"&boro=\"+addr[\"borocode\"][i]+\"&house_number=\"+addr[\"h_no\"][i]+\"&street=\"+addr[\"full_stree\"][i]\n",
    "#     url = url.replace(\" \", \"%20\")\n",
    "#     vio = pd.read_json(url) \n",
    "#     if vio.shape[0]!=0:\n",
    "#         print(vio.shape)"
   ]
  },
  {
   "cell_type": "code",
   "execution_count": 9,
   "id": "0b1f73bf",
   "metadata": {},
   "outputs": [
    {
     "data": {
      "text/plain": [
       "(1000, 17)"
      ]
     },
     "execution_count": 9,
     "metadata": {},
     "output_type": "execute_result"
    }
   ],
   "source": [
    "vio = pd.read_json(vio_URL)\n",
    "vio.shape"
   ]
  },
  {
   "cell_type": "code",
   "execution_count": 10,
   "id": "759cb49b",
   "metadata": {},
   "outputs": [
    {
     "data": {
      "text/html": [
       "<div>\n",
       "<style scoped>\n",
       "    .dataframe tbody tr th:only-of-type {\n",
       "        vertical-align: middle;\n",
       "    }\n",
       "\n",
       "    .dataframe tbody tr th {\n",
       "        vertical-align: top;\n",
       "    }\n",
       "\n",
       "    .dataframe thead th {\n",
       "        text-align: right;\n",
       "    }\n",
       "</style>\n",
       "<table border=\"1\" class=\"dataframe\">\n",
       "  <thead>\n",
       "    <tr style=\"text-align: right;\">\n",
       "      <th></th>\n",
       "      <th>isn_dob_bis_viol</th>\n",
       "      <th>boro</th>\n",
       "      <th>bin</th>\n",
       "      <th>block</th>\n",
       "      <th>lot</th>\n",
       "      <th>issue_date</th>\n",
       "      <th>violation_type_code</th>\n",
       "      <th>violation_number</th>\n",
       "      <th>house_number</th>\n",
       "      <th>street</th>\n",
       "      <th>device_number</th>\n",
       "      <th>description</th>\n",
       "      <th>number</th>\n",
       "      <th>violation_category</th>\n",
       "      <th>violation_type</th>\n",
       "      <th>disposition_date</th>\n",
       "      <th>disposition_comments</th>\n",
       "    </tr>\n",
       "  </thead>\n",
       "  <tbody>\n",
       "    <tr>\n",
       "      <th>0</th>\n",
       "      <td>22419</td>\n",
       "      <td>1</td>\n",
       "      <td>0</td>\n",
       "      <td>847.0</td>\n",
       "      <td>38.0</td>\n",
       "      <td>19881122</td>\n",
       "      <td>E</td>\n",
       "      <td>1179A-04</td>\n",
       "      <td>222</td>\n",
       "      <td>4TH AVE</td>\n",
       "      <td>1P4050</td>\n",
       "      <td>(51) REMOVE ALL DEADBOLT LOCKS</td>\n",
       "      <td>V112288E1179A-04</td>\n",
       "      <td>V-DOB VIOLATION - ACTIVE</td>\n",
       "      <td>E-ELEVATOR                                    ...</td>\n",
       "      <td>NaN</td>\n",
       "      <td>NaN</td>\n",
       "    </tr>\n",
       "    <tr>\n",
       "      <th>1</th>\n",
       "      <td>32085</td>\n",
       "      <td>1</td>\n",
       "      <td>0</td>\n",
       "      <td>847.0</td>\n",
       "      <td>38.0</td>\n",
       "      <td>19881122</td>\n",
       "      <td>E</td>\n",
       "      <td>1179A-05</td>\n",
       "      <td>222</td>\n",
       "      <td>4TH AVE</td>\n",
       "      <td>1P23210</td>\n",
       "      <td>NaN</td>\n",
       "      <td>V112288E1179A-05</td>\n",
       "      <td>V-DOB VIOLATION - ACTIVE</td>\n",
       "      <td>E-ELEVATOR                                    ...</td>\n",
       "      <td>NaN</td>\n",
       "      <td>NaN</td>\n",
       "    </tr>\n",
       "  </tbody>\n",
       "</table>\n",
       "</div>"
      ],
      "text/plain": [
       "   isn_dob_bis_viol  boro  bin  block   lot  issue_date violation_type_code  \\\n",
       "0             22419     1    0  847.0  38.0    19881122                   E   \n",
       "1             32085     1    0  847.0  38.0    19881122                   E   \n",
       "\n",
       "  violation_number house_number   street device_number  \\\n",
       "0         1179A-04          222  4TH AVE        1P4050   \n",
       "1         1179A-05          222  4TH AVE       1P23210   \n",
       "\n",
       "                      description            number        violation_category  \\\n",
       "0  (51) REMOVE ALL DEADBOLT LOCKS  V112288E1179A-04  V-DOB VIOLATION - ACTIVE   \n",
       "1                             NaN  V112288E1179A-05  V-DOB VIOLATION - ACTIVE   \n",
       "\n",
       "                                      violation_type  disposition_date  \\\n",
       "0  E-ELEVATOR                                    ...               NaN   \n",
       "1  E-ELEVATOR                                    ...               NaN   \n",
       "\n",
       "  disposition_comments  \n",
       "0                  NaN  \n",
       "1                  NaN  "
      ]
     },
     "execution_count": 10,
     "metadata": {},
     "output_type": "execute_result"
    }
   ],
   "source": [
    "vio.head(2)"
   ]
  },
  {
   "cell_type": "markdown",
   "id": "89ae77de",
   "metadata": {},
   "source": [
    "### AWS S3"
   ]
  },
  {
   "cell_type": "code",
   "execution_count": 18,
   "id": "d163f242",
   "metadata": {},
   "outputs": [],
   "source": [
    "import boto3"
   ]
  },
  {
   "cell_type": "code",
   "execution_count": 19,
   "id": "6ed8eaef",
   "metadata": {},
   "outputs": [],
   "source": [
    "sess = boto3.Session(region_name=\"us-east-1\")"
   ]
  },
  {
   "cell_type": "code",
   "execution_count": 20,
   "id": "8e67e360",
   "metadata": {},
   "outputs": [],
   "source": [
    "client = sess.client('s3', \n",
    "                     aws_access_key_id='',\n",
    "                     aws_secret_access_key='')"
   ]
  },
  {
   "cell_type": "code",
   "execution_count": 21,
   "id": "4d7b17ac",
   "metadata": {},
   "outputs": [
    {
     "data": {
      "text/plain": [
       "{'ResponseMetadata': {'RequestId': 'YTQGM31AW2HN4TB4',\n",
       "  'HostId': 'usroe0kgN7gMlO2GJVmJn7FXwbzsDrzlaqWRXBzJERTdNeeW7BVcD3+b1I74+TPOb3e/2BwGX5dH/NomplazopcOoukyr/r9nlBNpt0HVxA=',\n",
       "  'HTTPStatusCode': 200,\n",
       "  'HTTPHeaders': {'x-amz-id-2': 'usroe0kgN7gMlO2GJVmJn7FXwbzsDrzlaqWRXBzJERTdNeeW7BVcD3+b1I74+TPOb3e/2BwGX5dH/NomplazopcOoukyr/r9nlBNpt0HVxA=',\n",
       "   'x-amz-request-id': 'YTQGM31AW2HN4TB4',\n",
       "   'date': 'Thu, 18 Jan 2024 06:01:20 GMT',\n",
       "   'location': '/nycviolations',\n",
       "   'server': 'AmazonS3',\n",
       "   'content-length': '0'},\n",
       "  'RetryAttempts': 0},\n",
       " 'Location': '/nycviolations'}"
      ]
     },
     "execution_count": 21,
     "metadata": {},
     "output_type": "execute_result"
    }
   ],
   "source": [
    "bucket_name = 'nycviolations'\n",
    "# s3_location = {\n",
    "#     'LocationConstraint':'us-east-1' \n",
    "# }\n",
    "client.create_bucket(Bucket=bucket_name) #, CreateBucketConfiguration=s3_location"
   ]
  },
  {
   "cell_type": "code",
   "execution_count": 26,
   "id": "80a9f29a",
   "metadata": {},
   "outputs": [],
   "source": [
    "obj_name = \"dobviolations.csv\"\n",
    "vio.to_csv(obj_name, index=False)"
   ]
  },
  {
   "cell_type": "code",
   "execution_count": 27,
   "id": "023bcbfa",
   "metadata": {},
   "outputs": [],
   "source": [
    "client.upload_file(obj_name, bucket_name, obj_name)"
   ]
  },
  {
   "cell_type": "markdown",
   "id": "e05f6a67",
   "metadata": {},
   "source": [
    "### NYC violations extracted using API and loaded to new S3 bucket\n"
   ]
  }
 ],
 "metadata": {
  "kernelspec": {
   "display_name": "Python 3",
   "language": "python",
   "name": "python3"
  },
  "language_info": {
   "codemirror_mode": {
    "name": "ipython",
    "version": 3
   },
   "file_extension": ".py",
   "mimetype": "text/x-python",
   "name": "python",
   "nbconvert_exporter": "python",
   "pygments_lexer": "ipython3",
   "version": "3.11.5"
  }
 },
 "nbformat": 4,
 "nbformat_minor": 5
}
